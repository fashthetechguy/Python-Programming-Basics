{
 "cells": [
  {
   "cell_type": "markdown",
   "id": "6576f14b-0619-41e1-91a5-13249345aeff",
   "metadata": {},
   "source": [
    "## Python Basics"
   ]
  },
  {
   "cell_type": "markdown",
   "id": "89be7a19-3b1b-4fe0-bf60-28af863bf50f",
   "metadata": {},
   "source": [
    "### Meet Mr. Variable!"
   ]
  },
  {
   "cell_type": "markdown",
   "id": "0e7f20de-303b-4c47-a7dd-36e37c8408a4",
   "metadata": {},
   "source": [
    "#### 🎯 Lesson Objective:"
   ]
  },
  {
   "cell_type": "markdown",
   "id": "31f1ed42-83a8-4f16-881d-48780e9e706c",
   "metadata": {},
   "source": [
    "##### By the end of this short lesson, you'll understand"
   ]
  },
  {
   "cell_type": "markdown",
   "id": "66447c7b-1c1c-4f76-b052-7f25b102d99e",
   "metadata": {},
   "source": [
    "###### What a variable is - A variable is a name that holds a value\n",
    "###### How to create one - You use = to assign a value\n",
    "###### Why variables are useful - It helps store and reuse data in your code"
   ]
  },
  {
   "cell_type": "code",
   "execution_count": 13,
   "id": "ab14495d-4469-4620-adb2-b0056dae11cd",
   "metadata": {},
   "outputs": [],
   "source": [
    "myName = \"Fatai Hammed\"\n",
    "PhoneNo = 2348099987\n",
    "rate = 45.7\n",
    "initial = 'o'\n",
    "is_female_gender = False"
   ]
  },
  {
   "cell_type": "code",
   "execution_count": 15,
   "id": "b96615b7-05e2-469e-a290-ca6ef21db305",
   "metadata": {},
   "outputs": [
    {
     "name": "stdout",
     "output_type": "stream",
     "text": [
      "False\n"
     ]
    }
   ],
   "source": [
    "print(is_female_gender)"
   ]
  },
  {
   "cell_type": "markdown",
   "id": "82c3ca3a-877c-449f-ab43-4906c6dd27c9",
   "metadata": {},
   "source": [
    "### Meet the Number Squad! 🔢"
   ]
  },
  {
   "cell_type": "markdown",
   "id": "283b33b3-faac-4dee-92d8-d1dc1e81329e",
   "metadata": {},
   "source": [
    "#### 🎯 Lesson Goal:"
   ]
  },
  {
   "cell_type": "markdown",
   "id": "dffe9b24-da58-4d4f-b888-b8f1b5b56c2d",
   "metadata": {},
   "source": [
    "##### Understand the different types of numbers in Python and how to use them."
   ]
  },
  {
   "cell_type": "code",
   "execution_count": 35,
   "id": "e677c64d-850a-408c-bae7-2b5d55ee9209",
   "metadata": {},
   "outputs": [],
   "source": [
    "#### 1️⃣  Integers (int) — The Whole Number Guy\n",
    "#### Whole numbers (no decimals)\n",
    "#### Positive or negative"
   ]
  },
  {
   "cell_type": "code",
   "execution_count": 17,
   "id": "56bf5c50-1fa1-4466-bb18-c8445c236355",
   "metadata": {},
   "outputs": [],
   "source": [
    "age = 20\n",
    "temperature = -6\n",
    "score = 50"
   ]
  },
  {
   "cell_type": "code",
   "execution_count": 20,
   "id": "cad3b70c-6e75-444a-81cd-38fed7904649",
   "metadata": {},
   "outputs": [
    {
     "data": {
      "text/plain": [
       "int"
      ]
     },
     "execution_count": 20,
     "metadata": {},
     "output_type": "execute_result"
    }
   ],
   "source": [
    "type(score)"
   ]
  },
  {
   "cell_type": "code",
   "execution_count": 21,
   "id": "8b2ff76f-456d-4bba-bacd-085f4bb217a0",
   "metadata": {},
   "outputs": [],
   "source": [
    "#### 2️⃣ Floating Point Numbers (float) — The Decimal Expert\n",
    "#### Numbers with a decimal\n",
    "#### Used for money, measurements, etc."
   ]
  },
  {
   "cell_type": "code",
   "execution_count": 22,
   "id": "5c5ed4e7-5597-42d5-bf62-fcfdd07816c9",
   "metadata": {},
   "outputs": [],
   "source": [
    "price = 200.5\n",
    "hight = 5.7"
   ]
  },
  {
   "cell_type": "code",
   "execution_count": 24,
   "id": "257a0cf3-e9dc-4cd5-8ca1-202e4d6b2172",
   "metadata": {},
   "outputs": [
    {
     "data": {
      "text/plain": [
       "float"
      ]
     },
     "execution_count": 24,
     "metadata": {},
     "output_type": "execute_result"
    }
   ],
   "source": [
    "type(hight)"
   ]
  },
  {
   "cell_type": "code",
   "execution_count": 25,
   "id": "1477a040-523f-46ce-b257-bd10c6d0adcf",
   "metadata": {},
   "outputs": [],
   "source": [
    "#### 3️⃣ Complex Numbers (complex) — The Math Wizard 🧙‍♂️\n",
    "### Advanced math (you probably won’t need these unless you're doing physics or engineering)\n",
    "### Includes a real and imaginary part"
   ]
  },
  {
   "cell_type": "code",
   "execution_count": 26,
   "id": "12ef4123-49ed-4685-93fb-456e66058ec4",
   "metadata": {},
   "outputs": [],
   "source": [
    "z = 3 +4j"
   ]
  },
  {
   "cell_type": "code",
   "execution_count": 27,
   "id": "023bf7fd-9ecd-4b8e-9257-c463d5a2cd8c",
   "metadata": {},
   "outputs": [
    {
     "data": {
      "text/plain": [
       "complex"
      ]
     },
     "execution_count": 27,
     "metadata": {},
     "output_type": "execute_result"
    }
   ],
   "source": [
    "type(z)"
   ]
  },
  {
   "cell_type": "markdown",
   "id": "d4ba65b4-3132-4f0c-adc2-c8d031c6cdfe",
   "metadata": {},
   "source": [
    "#####  Python Can Do Math Calculation With Numbers Too!"
   ]
  },
  {
   "cell_type": "code",
   "execution_count": 30,
   "id": "088f64c0-edb5-4858-8828-d794d8fddbab",
   "metadata": {},
   "outputs": [],
   "source": [
    "numerOne = 10\n",
    "numerTwo = 6.7"
   ]
  },
  {
   "cell_type": "code",
   "execution_count": 31,
   "id": "7a63dc51-684c-4ea9-801a-09570e99e8df",
   "metadata": {},
   "outputs": [
    {
     "name": "stdout",
     "output_type": "stream",
     "text": [
      "Add 16.7\n"
     ]
    }
   ],
   "source": [
    "print(\"Add\" ,numerOne  +numerTwo )"
   ]
  },
  {
   "cell_type": "code",
   "execution_count": 32,
   "id": "3b19b309-5c56-4f93-b49e-6c943e88853a",
   "metadata": {},
   "outputs": [
    {
     "name": "stdout",
     "output_type": "stream",
     "text": [
      "Add 3.3\n"
     ]
    }
   ],
   "source": [
    "print(\"Subtract \" ,numerOne  - numerTwo )"
   ]
  },
  {
   "cell_type": "code",
   "execution_count": 33,
   "id": "cda3e49f-94c6-4431-aee7-a634df10b5e8",
   "metadata": {},
   "outputs": [
    {
     "name": "stdout",
     "output_type": "stream",
     "text": [
      "Divide 1.4925373134328357\n"
     ]
    }
   ],
   "source": [
    "print(\"Divide\" ,numerOne  / numerTwo )"
   ]
  },
  {
   "cell_type": "code",
   "execution_count": 34,
   "id": "90dfd789-893c-4879-9b42-8bfe11c4a00a",
   "metadata": {},
   "outputs": [
    {
     "name": "stdout",
     "output_type": "stream",
     "text": [
      "Muliply 67.0\n"
     ]
    }
   ],
   "source": [
    "print(\"Multiply\" ,numerOne  * numerTwo )"
   ]
  },
  {
   "cell_type": "markdown",
   "id": "dd1a84df-aa2b-419d-b3af-ca3872c66c40",
   "metadata": {},
   "source": [
    "### Python Strings"
   ]
  },
  {
   "cell_type": "markdown",
   "id": "7de4dce3-dec1-4f59-a8eb-600d3dbae776",
   "metadata": {},
   "source": [
    "#### 📌 What is a String in Python?"
   ]
  },
  {
   "cell_type": "code",
   "execution_count": 2,
   "id": "e100f6f0-bc1c-4128-a77e-f83a5f4bc820",
   "metadata": {},
   "outputs": [],
   "source": [
    "##### A string is a sequence of characters (letters, numbers, symbols, spaces, etc.) enclosed in quotes."
   ]
  },
  {
   "cell_type": "code",
   "execution_count": 5,
   "id": "421563e5-47d2-4933-b411-1e5175162115",
   "metadata": {},
   "outputs": [
    {
     "name": "stdout",
     "output_type": "stream",
     "text": [
      "My Name is Fatai And My phone number is +23489098763\n"
     ]
    }
   ],
   "source": [
    "name = \"Fatai\"\n",
    "phoneNumber = \"+23489098763\"\n",
    "\n",
    "print(\"My Name is \" + name  +  \" And My phone number is \" + phoneNumber )"
   ]
  },
  {
   "cell_type": "code",
   "execution_count": 6,
   "id": "abba699d-7ef2-42da-bfcf-e7367adca3f0",
   "metadata": {},
   "outputs": [],
   "source": [
    "#### Getting Part of a String (Slicing)\n",
    "### string[start:stop]"
   ]
  },
  {
   "cell_type": "code",
   "execution_count": 11,
   "id": "718d7efd-806a-4721-82ef-5be42a3f358d",
   "metadata": {},
   "outputs": [
    {
     "data": {
      "text/plain": [
       "'Fata'"
      ]
     },
     "execution_count": 11,
     "metadata": {},
     "output_type": "execute_result"
    }
   ],
   "source": [
    "name[0:4]"
   ]
  },
  {
   "cell_type": "code",
   "execution_count": 13,
   "id": "59ff5ded-791c-42cd-a152-30afc59fabd7",
   "metadata": {},
   "outputs": [
    {
     "name": "stdout",
     "output_type": "stream",
     "text": [
      "12\n"
     ]
    }
   ],
   "source": [
    "### . String Length\n",
    "\n",
    "print(len(phoneNumber))"
   ]
  },
  {
   "cell_type": "code",
   "execution_count": null,
   "id": "39d2e42d-cb21-4113-ab45-2a3f41292c73",
   "metadata": {},
   "outputs": [],
   "source": [
    "#### Quick Tips:\n",
    "#### Strings are surrounded by quotes.\n",
    "\n",
    "#### Strings are immutable (you can’t change characters directly).\n",
    "\n",
    "#### You can loop through strings using a for loop."
   ]
  },
  {
   "cell_type": "markdown",
   "id": "a7c5740e-0227-4796-a553-bde0fca6c023",
   "metadata": {},
   "source": [
    "### 📦 What is a List?"
   ]
  },
  {
   "cell_type": "markdown",
   "id": "50c87629-31e3-418f-bf82-c957116765b8",
   "metadata": {},
   "source": [
    "#### A list is a collection of items (like numbers, names, or anything else) stored in a single variable.\n",
    "#### It's like a container or a shelf where you can keep multiple things, and the order matters."
   ]
  },
  {
   "cell_type": "markdown",
   "id": "72adbbfe-34ac-4d02-9d81-4df068d5c81d",
   "metadata": {},
   "source": [
    "##### Lists Can Hold Anything"
   ]
  },
  {
   "cell_type": "code",
   "execution_count": 6,
   "id": "064a15bd-393d-494d-820f-c758033d3058",
   "metadata": {},
   "outputs": [],
   "source": [
    "\n",
    "#### Strings → [\"apple\", \"banana\"]\n",
    "#### Numbers → [1, 2, 3, 4]\n",
    "#### Mix → [1, \"hello\", 3.14]\n",
    "#### Even other lists → [[1, 2], [3, 4]]"
   ]
  },
  {
   "cell_type": "code",
   "execution_count": 2,
   "id": "6da237a2-e49d-4add-b591-73540397d641",
   "metadata": {},
   "outputs": [],
   "source": [
    "fruits = [\"Apple\",\"Cherry\",\"Banana\"]\n",
    "RandomNumber = [3,4,4,5]\n",
    "MixData = [3, \"Hello\" , 3.45]\n",
    "ListCollection = [[1, 3, 5] , [2, 4, 6]]"
   ]
  },
  {
   "cell_type": "code",
   "execution_count": 3,
   "id": "8c0073a1-c921-4b74-8642-e94fc09dd828",
   "metadata": {},
   "outputs": [
    {
     "name": "stdout",
     "output_type": "stream",
     "text": [
      "[[1, 3, 5], [2, 4, 6]]\n"
     ]
    }
   ],
   "source": [
    "print(ListCollection)"
   ]
  },
  {
   "cell_type": "markdown",
   "id": "091bb259-3693-43f7-95e9-103f409b2fe6",
   "metadata": {},
   "source": [
    "##### 📍 Accessing List Items (Indexing)"
   ]
  },
  {
   "cell_type": "code",
   "execution_count": 14,
   "id": "2104937e-f714-4ba9-baa1-d65f38f4e657",
   "metadata": {},
   "outputs": [],
   "source": [
    "###### Lists use index numbers to access items. Index starts from 0."
   ]
  },
  {
   "cell_type": "code",
   "execution_count": 5,
   "id": "0c9f4316-6843-48d3-acde-ee0669eef0db",
   "metadata": {},
   "outputs": [
    {
     "name": "stdout",
     "output_type": "stream",
     "text": [
      "Banana\n"
     ]
    }
   ],
   "source": [
    "print(fruits[2])"
   ]
  },
  {
   "cell_type": "code",
   "execution_count": 7,
   "id": "5a6fe23e-2a06-415a-9466-b6fd8e740438",
   "metadata": {},
   "outputs": [
    {
     "name": "stdout",
     "output_type": "stream",
     "text": [
      "Hello\n"
     ]
    }
   ],
   "source": [
    "print(MixData[1])"
   ]
  },
  {
   "cell_type": "markdown",
   "id": "8511cf1f-ad6c-4209-9f50-7ac381c1cad6",
   "metadata": {},
   "source": [
    "###### ✂️ Slicing a List"
   ]
  },
  {
   "cell_type": "code",
   "execution_count": null,
   "id": "20fb539a-5762-4234-b6d2-0b935f2a0d45",
   "metadata": {},
   "outputs": [],
   "source": [
    "###### You can get parts of the list using slicing."
   ]
  },
  {
   "cell_type": "code",
   "execution_count": 8,
   "id": "c1fdadab-0f88-403e-8357-201df97497a4",
   "metadata": {},
   "outputs": [],
   "source": [
    "moreFruits = [\"Banana\",\"Apple\",\"Cherry\",\"Mango\",\"date\"]"
   ]
  },
  {
   "cell_type": "code",
   "execution_count": null,
   "id": "ce037340-9269-4396-8e99-4ef1ef935025",
   "metadata": {},
   "outputs": [],
   "source": [
    "######🧠 Reminder: slicing is list[start:stop], and stop is excluded."
   ]
  },
  {
   "cell_type": "code",
   "execution_count": 12,
   "id": "0cf180d5-85cd-466a-b0c2-e33699a39084",
   "metadata": {},
   "outputs": [
    {
     "name": "stdout",
     "output_type": "stream",
     "text": [
      "['Apple', 'Cherry', 'Mango']\n"
     ]
    }
   ],
   "source": [
    "print(moreFruits[1:4])"
   ]
  },
  {
   "cell_type": "markdown",
   "id": "f04ed303-b196-4e2d-9138-64239f08166b",
   "metadata": {},
   "source": [
    "###### Think of a List Like a Backpack 🎒"
   ]
  },
  {
   "cell_type": "code",
   "execution_count": 16,
   "id": "c2a91534-7879-4c21-833b-d637361c837e",
   "metadata": {},
   "outputs": [],
   "source": [
    "###### You can put anything inside (books, snacks, tools), pull them out by their position,\n",
    "### add new ones, or remove them."
   ]
  },
  {
   "cell_type": "markdown",
   "id": "dcdece99-7771-4e82-b421-c62e997116bb",
   "metadata": {},
   "source": [
    "##### 🔐 Lists are Mutable"
   ]
  },
  {
   "cell_type": "code",
   "execution_count": null,
   "id": "fc58c395-6f3b-4025-b7a2-4ae27364c9af",
   "metadata": {},
   "outputs": [],
   "source": [
    "###### That means you can change the items inside."
   ]
  },
  {
   "cell_type": "code",
   "execution_count": 13,
   "id": "b84772a6-8a33-47b6-9785-d3f959773f39",
   "metadata": {},
   "outputs": [],
   "source": [
    "moreFruits.append(\"Pineapple\") ### Adds an item at the end"
   ]
  },
  {
   "cell_type": "code",
   "execution_count": 15,
   "id": "2d4d5c8e-0f6e-4727-ba16-6c621257efcf",
   "metadata": {},
   "outputs": [],
   "source": [
    "moreFruits.remove(\"Cherry\") ### "
   ]
  },
  {
   "cell_type": "code",
   "execution_count": 16,
   "id": "40bbd36b-8916-4cf9-81d8-1799e94d51f9",
   "metadata": {},
   "outputs": [
    {
     "name": "stdout",
     "output_type": "stream",
     "text": [
      "['Banana', 'Apple', 'Mango', 'date', 'Pineapple']\n"
     ]
    }
   ],
   "source": [
    "print(moreFruits)"
   ]
  },
  {
   "cell_type": "markdown",
   "id": "bce09745-76d8-4742-af16-3a3d0d999eb3",
   "metadata": {},
   "source": [
    "###### 🎯 Final Thought"
   ]
  },
  {
   "cell_type": "code",
   "execution_count": null,
   "id": "2232b12f-1455-479b-8d75-4823e17cca7d",
   "metadata": {},
   "outputs": [],
   "source": [
    "\n",
    "###### A list is your go-to tool when you want to work with many items at once.\n",
    "###### Learn to create, access, slice, loop, and modify them — and you’ll be well on\n",
    "###### your way to becoming a real Python programmer! 🚀"
   ]
  },
  {
   "cell_type": "markdown",
   "id": "5ba1f888-361c-4f60-8b9f-f97e8f49dbd5",
   "metadata": {},
   "source": [
    "### Understanding if and else (Decision Making)"
   ]
  },
  {
   "cell_type": "markdown",
   "id": "1de624ea-f678-40a1-b9df-13f9ef2af190",
   "metadata": {},
   "source": [
    "#### What Are if and else?"
   ]
  },
  {
   "cell_type": "code",
   "execution_count": 1,
   "id": "2a77dffc-42d3-4ce7-bbdc-4e2c85a7225c",
   "metadata": {},
   "outputs": [],
   "source": [
    "##### Imagine you’re making decisions in real life:\n",
    "##### -> If it’s raining, then take an umbrella.\n",
    "##### -> Else, wear sunglasses.\n",
    "##### -> Programming works the same way! With Python, we can tell the computer:\n",
    "##### ->\"Do something if a condition is true. Otherwise (else), do something else.\""
   ]
  },
  {
   "cell_type": "markdown",
   "id": "9bc549c9-5f67-4752-990a-d6828dd1ea39",
   "metadata": {},
   "source": [
    "#### 🧪 Real-Life Example (Translated to Python)"
   ]
  },
  {
   "cell_type": "code",
   "execution_count": null,
   "id": "97e5d96e-cb4f-4022-b7ed-06ac5bdd33af",
   "metadata": {},
   "outputs": [],
   "source": [
    "#### Scenario:\n",
    "#### You want to check if someone is old enough to vote.\n",
    "#### 🗣 \"If age is 18 or more, print 'You can vote'. Else, print 'You are too young to vote.'\""
   ]
  },
  {
   "cell_type": "markdown",
   "id": "054964db-616f-42c1-b733-4b0eab4b177e",
   "metadata": {},
   "source": [
    "#### ✍️ In Python:"
   ]
  },
  {
   "cell_type": "code",
   "execution_count": null,
   "id": "385932ee-cc2d-407e-84f1-128d4bfe8c0e",
   "metadata": {},
   "outputs": [],
   "source": []
  },
  {
   "cell_type": "markdown",
   "id": "456c6aa4-4518-4886-bb15-cc9ff969a579",
   "metadata": {},
   "source": [
    "####  🔍 Breaking It Down"
   ]
  },
  {
   "cell_type": "code",
   "execution_count": null,
   "id": "9da0c996-cdb6-4642-b23d-d4d002932db4",
   "metadata": {},
   "outputs": [],
   "source": [
    "#### 🧩 if Statement:"
   ]
  },
  {
   "cell_type": "code",
   "execution_count": null,
   "id": "33f2439b-7549-41fa-8a2a-2eeab47db282",
   "metadata": {},
   "outputs": [],
   "source": [
    "##### condition is something that can be True or False\n",
    "##### If it's True, the code under if runs\n",
    "##### If not, Python skips it"
   ]
  },
  {
   "cell_type": "code",
   "execution_count": 3,
   "id": "ef945eb5-e759-4522-a8da-8199d23d5346",
   "metadata": {},
   "outputs": [
    {
     "name": "stdout",
     "output_type": "stream",
     "text": [
      "You are too young to vote\n"
     ]
    }
   ],
   "source": [
    "age = 7\n",
    "\n",
    "if age >=18:\n",
    "    print(\"You can Vote\")\n",
    "else:\n",
    "   print(\"You are too young to vote\") "
   ]
  },
  {
   "cell_type": "markdown",
   "id": "8ce6b0d7-26d5-468a-9b11-2547b8c4e16a",
   "metadata": {},
   "source": [
    "#### 🧪 Try It Yourself!"
   ]
  },
  {
   "cell_type": "code",
   "execution_count": null,
   "id": "aedc53dd-069d-4d14-bf8a-c80d6effae31",
   "metadata": {},
   "outputs": [],
   "source": [
    "#####  Example one"
   ]
  },
  {
   "cell_type": "code",
   "execution_count": 5,
   "id": "bc0f5f74-831e-4c3d-8064-328b12b9ba31",
   "metadata": {},
   "outputs": [
    {
     "name": "stdout",
     "output_type": "stream",
     "text": [
      "The weather is fine\n"
     ]
    }
   ],
   "source": [
    "temperature = 20\n",
    "\n",
    "if temperature >30:\n",
    "    print(\"Its hot outside\")\n",
    "else:\n",
    "    print(\"The weather is fine\")\n",
    "    "
   ]
  },
  {
   "cell_type": "code",
   "execution_count": null,
   "id": "824f61b4-721b-488f-b864-8b7658fe45ec",
   "metadata": {},
   "outputs": [],
   "source": [
    "##### Example Two"
   ]
  },
  {
   "cell_type": "code",
   "execution_count": 7,
   "id": "d275e787-fb74-42a1-b015-8816a094f213",
   "metadata": {},
   "outputs": [
    {
     "name": "stdout",
     "output_type": "stream",
     "text": [
      "The number is even\n"
     ]
    }
   ],
   "source": [
    "number =10\n",
    "\n",
    "if number % 2 ==0:\n",
    "    print(\"The number is even\")\n",
    "else: \n",
    "    print(\"The number is odd\")"
   ]
  },
  {
   "cell_type": "markdown",
   "id": "1bff3ef9-e3dc-4e33-8cd8-f36bc4cf2d47",
   "metadata": {},
   "source": [
    "##### summmary"
   ]
  },
  {
   "cell_type": "code",
   "execution_count": null,
   "id": "d87a0c7c-9dca-4dce-a817-63a187de1bb9",
   "metadata": {},
   "outputs": [],
   "source": [
    "#### Keyword\t   Purpose\n",
    "##### ->if\t       Check a condition\n",
    "##### -> else\t   Do something if if is False"
   ]
  },
  {
   "cell_type": "markdown",
   "id": "50a4503a-1c9d-4adc-ae1c-3a279f01baaf",
   "metadata": {},
   "source": [
    "### Understanding for Loops (Repeat Actions) "
   ]
  },
  {
   "cell_type": "markdown",
   "id": "97fb1ccb-8ce3-445d-9c60-2ba2de3e57cb",
   "metadata": {},
   "source": [
    "#### 🎯 What is a for loop?"
   ]
  },
  {
   "cell_type": "markdown",
   "id": "3f07f6ad-863c-4522-bf68-5e786a26e919",
   "metadata": {},
   "source": [
    "##### Imagine you're handing out 5 candies to 5 kids, one by one."
   ]
  },
  {
   "cell_type": "markdown",
   "id": "8138c529-2313-423d-bd38-1d04ec134ded",
   "metadata": {},
   "source": [
    "###### 1. Instead of saying:\n",
    "###### 2. Give to Kid 1\n",
    "###### 3. Give to Kid 2\n",
    "###### 4. Give to Kid 3..."
   ]
  },
  {
   "cell_type": "markdown",
   "id": "07c80340-4f29-49ff-a63d-aa9205c6ab02",
   "metadata": {},
   "source": [
    "###### You just say:\n",
    "###### 👉 \"For each kid, give 1 candy.\"\n",
    "###### That’s what a for loop does in Python — it repeats something for each item in a group."
   ]
  },
  {
   "cell_type": "markdown",
   "id": "addf52b3-d819-4354-a8bd-36ec1c4a5a78",
   "metadata": {},
   "source": [
    "#### 🧪 Real-Life Example (Translated to Python)"
   ]
  },
  {
   "cell_type": "markdown",
   "id": "55ff3bb9-fbf6-4364-9606-7adbf88f5b5e",
   "metadata": {},
   "source": [
    "###### Scenario:"
   ]
  },
  {
   "cell_type": "code",
   "execution_count": null,
   "id": "5a2402a3-fdb3-4d80-abe8-1ecb9bd8ee8e",
   "metadata": {},
   "outputs": [],
   "source": [
    "###### You have a list of fruits and want to print each one.\n",
    "###### 🗣 \"For each fruit in the list, print the fruit.\""
   ]
  },
  {
   "cell_type": "code",
   "execution_count": 16,
   "id": "f04f7ef5-ffc3-4835-b25e-e049b83720f1",
   "metadata": {},
   "outputs": [
    {
     "name": "stdout",
     "output_type": "stream",
     "text": [
      "Apple\n",
      "Banana\n",
      "Orange\n"
     ]
    }
   ],
   "source": [
    "fruits = [\"Apple\",\"Banana\",\"Orange\"]\n",
    "\n",
    "print(fruits[0])\n",
    "print(fruits[1])\n",
    "print(fruits[2])"
   ]
  },
  {
   "cell_type": "code",
   "execution_count": 17,
   "id": "6de309fd-050e-4a59-885b-54622e45e06b",
   "metadata": {},
   "outputs": [
    {
     "name": "stdout",
     "output_type": "stream",
     "text": [
      "Apple\n",
      "Banana\n",
      "Orange\n"
     ]
    }
   ],
   "source": [
    "for fruit in fruits:\n",
    "    print(fruit)"
   ]
  },
  {
   "cell_type": "markdown",
   "id": "f63b1ef1-08e4-41ac-8c1d-d429ae121303",
   "metadata": {},
   "source": [
    "#### 🔁 Using range() with for"
   ]
  },
  {
   "cell_type": "markdown",
   "id": "f557cec0-fd55-4b63-aa42-4dd1be36e37f",
   "metadata": {},
   "source": [
    "###### If you want to repeat something a specific number of times (like counting):"
   ]
  },
  {
   "cell_type": "code",
   "execution_count": 19,
   "id": "902b2299-de94-47a9-80ac-da696b272b82",
   "metadata": {},
   "outputs": [
    {
     "name": "stdout",
     "output_type": "stream",
     "text": [
      "0\n",
      "1\n",
      "2\n",
      "3\n",
      "4\n"
     ]
    }
   ],
   "source": [
    "for i in range(5):\n",
    "    print(i)"
   ]
  },
  {
   "cell_type": "markdown",
   "id": "8d5a7b24-0fdd-4916-8c5c-82f712d624e2",
   "metadata": {},
   "source": [
    "##### 🧪 More Examples"
   ]
  },
  {
   "cell_type": "markdown",
   "id": "4434f246-37af-43a2-bd48-126a19c85478",
   "metadata": {},
   "source": [
    "###### Example 1: say Hello 3 Times"
   ]
  },
  {
   "cell_type": "code",
   "execution_count": 22,
   "id": "0eb0c0ab-f25d-40a1-8200-fc7d28ae18b4",
   "metadata": {},
   "outputs": [
    {
     "name": "stdout",
     "output_type": "stream",
     "text": [
      "Hello \n",
      "Hello \n",
      "Hello \n"
     ]
    }
   ],
   "source": [
    "for i in range(3):\n",
    "    print(\"Hello \")"
   ]
  },
  {
   "cell_type": "markdown",
   "id": "00870b78-d6da-4e44-b74e-63d1f75d2e9b",
   "metadata": {},
   "source": [
    "###### ###### Example 1: print out  between 1 -6"
   ]
  },
  {
   "cell_type": "code",
   "execution_count": 23,
   "id": "25290b44-3d8f-4f97-955b-78ab5b3dd58f",
   "metadata": {},
   "outputs": [
    {
     "name": "stdout",
     "output_type": "stream",
     "text": [
      "1\n",
      "2\n",
      "3\n",
      "4\n",
      "5\n"
     ]
    }
   ],
   "source": [
    "for number in range(1 , 6):\n",
    "    print(number)"
   ]
  },
  {
   "cell_type": "code",
   "execution_count": null,
   "id": "611acd9d-0fe6-4692-9236-f696d74655aa",
   "metadata": {},
   "outputs": [],
   "source": [
    "### ✅ Summary\n",
    "#####   Keyword\t     Meaning\n",
    "#####   for\t         Used to repeat something\n",
    "#####   in\t         Goes through each item in a group\n",
    "#####   range()\t     Creates a range of numbers"
   ]
  },
  {
   "cell_type": "markdown",
   "id": "5cd37ae7-5ec3-4b92-b33a-7d140eb4be6f",
   "metadata": {},
   "source": [
    "### Understanding Functions (Reusable Actions)"
   ]
  },
  {
   "cell_type": "markdown",
   "id": "3846c891-7f04-4775-86cc-bc88ff9a2589",
   "metadata": {},
   "source": [
    "##### 🎯 What is a Function?"
   ]
  },
  {
   "cell_type": "code",
   "execution_count": 24,
   "id": "e11cd2de-dc9a-4e80-b3e9-791a0e0102a4",
   "metadata": {},
   "outputs": [],
   "source": [
    "##### Imagine you’re baking a cake.\n",
    "##### 🍰Every time, you follow the same steps:\n",
    "##### Mix ingredients\n",
    "##### Bake the cake\n",
    "##### Decorate it\n",
    "###### A function in Python works the same way — it's like a recipe or instruction box you can reuse anytime."
   ]
  },
  {
   "cell_type": "markdown",
   "id": "ec57fc6f-6f40-4c16-ae90-d3c5b394d67f",
   "metadata": {},
   "source": [
    "##### 🧪 Real-Life Example (Translated to Python)"
   ]
  },
  {
   "cell_type": "code",
   "execution_count": null,
   "id": "cfd2c986-68fa-40c9-9fb4-268960398286",
   "metadata": {},
   "outputs": [],
   "source": [
    "###### Scenario:\n",
    "###### You want to greet someone by name.\n",
    "###### 🗣 \"Create a function that says hello to any name I give it.\""
   ]
  },
  {
   "cell_type": "code",
   "execution_count": 32,
   "id": "65d022eb-5beb-4bbf-bfd8-0251e1ed77d4",
   "metadata": {},
   "outputs": [
    {
     "name": "stdout",
     "output_type": "stream",
     "text": [
      "Hello Fash\n",
      "Hello John\n"
     ]
    }
   ],
   "source": [
    "def greet(name):\n",
    "    print(\"Hello \" + name)\n",
    "\n",
    "greet(\"Fash\")\n",
    "greet(\"John\")"
   ]
  },
  {
   "cell_type": "markdown",
   "id": "ca724f5d-f711-4044-9679-22d1f4770ea8",
   "metadata": {},
   "source": [
    "##### 🔍 Breaking It Down"
   ]
  },
  {
   "cell_type": "code",
   "execution_count": null,
   "id": "4e30a717-1fa1-4b3d-bbee-087fda708977",
   "metadata": {},
   "outputs": [],
   "source": [
    "##### 💬 How to Create a Function:\n",
    "#### def: Stands for define (you're creating a new function)\n",
    "#### function_name: Give your function a name (like “greet”)\n",
    "###### parameters: Things you can pass in (like name)\n",
    "#### Inside the function, write the steps you want it to do"
   ]
  },
  {
   "cell_type": "code",
   "execution_count": null,
   "id": "640202cd-e9a1-4037-8949-70919693ceed",
   "metadata": {},
   "outputs": [],
   "source": [
    "##### ✨ Why Use Functions?\n",
    "#### ✅ Avoid repeating code\n",
    "#### ✅ Organize your work\n",
    "##### ✅ Make your program easier to read and change"
   ]
  },
  {
   "cell_type": "markdown",
   "id": "af949fce-5c9e-4d4b-a0f2-726772aede65",
   "metadata": {},
   "source": [
    "#### 🧪 More Examples"
   ]
  },
  {
   "cell_type": "markdown",
   "id": "d2f69fbe-41a7-41e3-8e00-02d4d6955859",
   "metadata": {},
   "source": [
    "###### Example 1: Add Two Numbers"
   ]
  },
  {
   "cell_type": "code",
   "execution_count": 34,
   "id": "4d16300d-ac3a-4dea-9a7d-211b1e433fad",
   "metadata": {},
   "outputs": [
    {
     "name": "stdout",
     "output_type": "stream",
     "text": [
      "9\n",
      "29\n"
     ]
    }
   ],
   "source": [
    "def add_number(a , b):\n",
    "    result = a+b\n",
    "    print(result)\n",
    "\n",
    "add_number(4 ,5)\n",
    "add_number(4 ,25)"
   ]
  },
  {
   "cell_type": "markdown",
   "id": "77f636b9-12c2-47b9-b7c8-614e270d6512",
   "metadata": {},
   "source": [
    "###### Example 2: Function Without Parameters"
   ]
  },
  {
   "cell_type": "code",
   "execution_count": 38,
   "id": "6894131a-9517-4c6d-97f4-dad377c953be",
   "metadata": {},
   "outputs": [
    {
     "name": "stdout",
     "output_type": "stream",
     "text": [
      "Hello Everyone my name is Fash\n",
      "Hello Everyone my name is Kazman\n",
      "Hello Everyone my name is Jazman\n",
      "Hello Everyone my name is Rice\n"
     ]
    }
   ],
   "source": [
    "def say_hello(name):\n",
    "    print(\"Hello Everyone my name is \" + name)\n",
    "\n",
    "say_hello(\"Fash\")\n",
    "say_hello(\"Kazman\")\n",
    "say_hello(\"Jazman\")\n",
    "say_hello(\"Rice\")"
   ]
  },
  {
   "cell_type": "markdown",
   "id": "6edd3ed3-0dda-4937-a73e-4c1de4933115",
   "metadata": {},
   "source": [
    "##### Summary "
   ]
  },
  {
   "cell_type": "code",
   "execution_count": null,
   "id": "fc00e8b3-2cd2-40c5-a1a7-016d53d5e951",
   "metadata": {},
   "outputs": [],
   "source": [
    "##### ✅ Summary\n",
    "##### Keyword\tMeaning\n",
    "##### def\tUsed to define a function\n",
    "##### ()\tHold any values (parameters) you send in\n",
    "##### return\t(Optional) Gives something back from the function\n",
    "##### 💡 Think of functions like named tools or recipes you can use over and over."
   ]
  },
  {
   "cell_type": "markdown",
   "id": "0adbdcdd-7d9e-4f3e-8ede-628cf699a712",
   "metadata": {},
   "source": [
    "### Understanding Dictionaries 🗂️ and Tuples 📦"
   ]
  },
  {
   "cell_type": "markdown",
   "id": "666c2250-fd9f-4a2e-bd5b-ac930386e2c8",
   "metadata": {},
   "source": [
    "#### 📘 Part 1: What is a Dictionary in Python?"
   ]
  },
  {
   "cell_type": "code",
   "execution_count": null,
   "id": "cbe9bad9-93e9-48a5-8150-0b15564acb9a",
   "metadata": {},
   "outputs": [],
   "source": [
    "######🎯 Think of a real dictionary:\n",
    "###### You look up a word (like \"apple\")\n",
    "###### You get the definition (\"a fruit\")\n",
    "###### In Python, a dictionary is a collection of key-value pairs.\n",
    "###### 👉 The key is like the word\n",
    "###### 👉 The value is like the definition"
   ]
  },
  {
   "cell_type": "markdown",
   "id": "271c6e2b-9431-4fe5-b006-f5b70bf3c352",
   "metadata": {},
   "source": [
    "###### 🧪 Example: A Person’s Information"
   ]
  },
  {
   "cell_type": "code",
   "execution_count": 43,
   "id": "c883633e-1694-4bc1-9f00-e6d0f2eaa038",
   "metadata": {},
   "outputs": [
    {
     "name": "stdout",
     "output_type": "stream",
     "text": [
      "Fatai\n",
      "United Kingdom\n"
     ]
    }
   ],
   "source": [
    "person = {\n",
    "    \"name\":\"Fatai\",\n",
    "    \"age\":20,\n",
    "    \"city\":\"United Kingdom\",\n",
    "    \n",
    "}\n",
    "\n",
    "print(person[\"name\"]) ## you want to output a name\n",
    "print(person[\"city\"]) ## you want to output The city"
   ]
  },
  {
   "cell_type": "code",
   "execution_count": null,
   "id": "8208c9b2-2a48-4ae5-9307-6fab5c9a8cc2",
   "metadata": {},
   "outputs": [],
   "source": [
    "###### Keys are unique (no duplicates)\n",
    "###### Values can be anything (text, number, list, etc.)\n",
    "######Use [] to get a value by its key"
   ]
  },
  {
   "cell_type": "code",
   "execution_count": null,
   "id": "c2a84fe0-db93-4d52-919c-155e4cf4b820",
   "metadata": {},
   "outputs": [],
   "source": [
    "#✅ Why Use Dictionaries?\n",
    "#✅ You can name your data\n",
    "#✅ You can look up information quickly\n",
    "#✅ Perfect for storing related data together"
   ]
  },
  {
   "cell_type": "markdown",
   "id": "c609b9e2-13ce-47e5-a648-fec33506e86c",
   "metadata": {},
   "source": [
    "#### 📘 Part 2: What is a Tuple in Python?"
   ]
  },
  {
   "cell_type": "code",
   "execution_count": 40,
   "id": "fc01ba85-5a1c-4946-8cbe-a8de283fbe1a",
   "metadata": {},
   "outputs": [],
   "source": [
    "######🎯 Think of a Tuple as a box of items that:\n",
    "###### Has a fixed number of items\n",
    "######Can’t be changed (read-only)\n",
    "######👉 Like your date of birth: once it’s set, it doesn’t change"
   ]
  },
  {
   "cell_type": "markdown",
   "id": "08c92b47-2e7a-4b42-80f9-7c0786d31625",
   "metadata": {},
   "source": [
    "##### 🧪 Example: Storing Coordinates"
   ]
  },
  {
   "cell_type": "code",
   "execution_count": 45,
   "id": "13486120-df3e-4ec2-98e4-9e70a9af9ea4",
   "metadata": {},
   "outputs": [
    {
     "name": "stdout",
     "output_type": "stream",
     "text": [
      "46.9908\n",
      "-65759775\n"
     ]
    }
   ],
   "source": [
    "location = (46.9908 , -65759775)\n",
    "\n",
    "print(location[0])\n",
    "print(location[1])"
   ]
  },
  {
   "cell_type": "code",
   "execution_count": null,
   "id": "2a41877f-598e-43c3-a11a-01a6eb7c771a",
   "metadata": {},
   "outputs": [],
   "source": [
    "#✅ Why Use Tuples?\n",
    "#✅ Protect data from being changed\n",
    "#✅ Faster than lists for reading\n",
    "#✅ Great for grouped values that won’t change"
   ]
  },
  {
   "cell_type": "markdown",
   "id": "04037f47-7279-4f07-86e1-ce5e569ea579",
   "metadata": {},
   "source": [
    "### Understanding Modules 🧩 and PIP 📦"
   ]
  },
  {
   "cell_type": "markdown",
   "id": "58c2e71d-2936-43bd-8ca2-a51998554574",
   "metadata": {},
   "source": [
    "##### 📘 Part 1: What is a Module in Python?"
   ]
  },
  {
   "cell_type": "code",
   "execution_count": null,
   "id": "8c6c0081-5873-4aff-9a21-c830b9acbf48",
   "metadata": {},
   "outputs": [],
   "source": [
    "######🎯 Real-life comparison:\n",
    "###### Imagine you're cooking dinner. Instead of growing your own vegetables, you go to the market and bring\n",
    "######ingredients that are already prepared.\n",
    "###### 👉 In Python, a module is like a toolbox or package of code that someone else has already written \n",
    "###### — and you can use it in your program."
   ]
  },
  {
   "cell_type": "code",
   "execution_count": null,
   "id": "7f34d2a0-1a6e-48af-8f22-6cd33e305ded",
   "metadata": {},
   "outputs": [],
   "source": [
    "######🔧 What can Modules do?\n",
    "###### Do math\n",
    "###### Handle dates and time\n",
    "###### Work with random numbers\n",
    "###### Connect to the internet, and more!"
   ]
  },
  {
   "cell_type": "markdown",
   "id": "732a1953-ccf4-4e64-a016-a856711f3f8b",
   "metadata": {},
   "source": [
    "##### ✍️ Example: Using the math Module"
   ]
  },
  {
   "cell_type": "code",
   "execution_count": 48,
   "id": "c2b957ca-9f22-4071-9850-513c53be1fff",
   "metadata": {},
   "outputs": [
    {
     "name": "stdout",
     "output_type": "stream",
     "text": [
      "12.0\n",
      "3.141592653589793\n"
     ]
    }
   ],
   "source": [
    "import math\n",
    "\n",
    "print(math.sqrt(144))\n",
    "print(math.pi)"
   ]
  },
  {
   "cell_type": "markdown",
   "id": "d04c5ad7-74c4-43f0-8691-1bc743c4c54b",
   "metadata": {},
   "source": [
    "##### 🔍 How to Use a Module"
   ]
  },
  {
   "cell_type": "code",
   "execution_count": null,
   "id": "ff1ed61c-e16f-411d-acc5-328b0bd4da9a",
   "metadata": {},
   "outputs": [],
   "source": [
    "#### import module_name\n",
    "#### from module_name import something"
   ]
  },
  {
   "cell_type": "markdown",
   "id": "b7429060-8173-424c-8e37-2c95e8f24a79",
   "metadata": {},
   "source": [
    "##### 📘 Part 2: What is PIP in Python?"
   ]
  },
  {
   "cell_type": "code",
   "execution_count": 50,
   "id": "7ce565e6-533c-4222-a6fd-1df61687c109",
   "metadata": {},
   "outputs": [
    {
     "name": "stdout",
     "output_type": "stream",
     "text": [
      "Requirement already satisfied: pandas in c:\\users\\hamme\\appdata\\local\\programs\\python\\python313\\lib\\site-packages (2.2.3)\n",
      "Requirement already satisfied: numpy>=1.26.0 in c:\\users\\hamme\\appdata\\local\\programs\\python\\python313\\lib\\site-packages (from pandas) (2.1.3)\n",
      "Requirement already satisfied: python-dateutil>=2.8.2 in c:\\users\\hamme\\appdata\\local\\programs\\python\\python313\\lib\\site-packages (from pandas) (2.9.0.post0)\n",
      "Requirement already satisfied: pytz>=2020.1 in c:\\users\\hamme\\appdata\\local\\programs\\python\\python313\\lib\\site-packages (from pandas) (2024.2)\n",
      "Requirement already satisfied: tzdata>=2022.7 in c:\\users\\hamme\\appdata\\local\\programs\\python\\python313\\lib\\site-packages (from pandas) (2024.2)\n",
      "Requirement already satisfied: six>=1.5 in c:\\users\\hamme\\appdata\\local\\programs\\python\\python313\\lib\\site-packages (from python-dateutil>=2.8.2->pandas) (1.16.0)\n",
      "Note: you may need to restart the kernel to use updated packages.\n"
     ]
    }
   ],
   "source": [
    "pip install pandas"
   ]
  },
  {
   "cell_type": "markdown",
   "id": "c4e988c7-c44c-47ea-9499-4d98ad1a11c4",
   "metadata": {},
   "source": [
    "##### Generate Random Numbers"
   ]
  },
  {
   "cell_type": "code",
   "execution_count": null,
   "id": "ba062f1c-02ff-4692-94b5-766316ffc026",
   "metadata": {},
   "outputs": [],
   "source": [
    "####### Python has a built-in module called random that lets you work with random numbers."
   ]
  },
  {
   "cell_type": "code",
   "execution_count": null,
   "id": "6880b520-9933-4f58-9637-fe79de755001",
   "metadata": {},
   "outputs": [],
   "source": [
    "###### 📌 Example 1: Generate a Random Number Between 1 and 10"
   ]
  },
  {
   "cell_type": "code",
   "execution_count": 52,
   "id": "4a71c5b6-b474-4105-8240-0f4aa663bcdc",
   "metadata": {},
   "outputs": [
    {
     "name": "stdout",
     "output_type": "stream",
     "text": [
      "Random Number between 1 and 10 2\n"
     ]
    }
   ],
   "source": [
    "import random\n",
    "\n",
    "number = random.randint(1, 10)\n",
    "\n",
    "print(\"Random Number between 1 and 10\", number )"
   ]
  },
  {
   "cell_type": "code",
   "execution_count": null,
   "id": "f4fd2a66-5152-49cd-bda2-41446b113c7b",
   "metadata": {},
   "outputs": [],
   "source": [
    "###### 📌 Example 2: Pick a Random Item from a List"
   ]
  },
  {
   "cell_type": "code",
   "execution_count": 58,
   "id": "fb58cb9c-2662-460a-a814-6cccd62ffc9c",
   "metadata": {},
   "outputs": [
    {
     "name": "stdout",
     "output_type": "stream",
     "text": [
      "Mango\n"
     ]
    }
   ],
   "source": [
    "import random\n",
    "fruits = [\"Mango\",\"Banana\",\"Apple\",\"Cherry\"]\n",
    "\n",
    "chosen = random.choice(fruits)\n",
    "\n",
    "print(chosen)\n"
   ]
  },
  {
   "cell_type": "markdown",
   "id": "6ed01ba9-1f0e-4f01-97f4-bf7bc2804d65",
   "metadata": {},
   "source": [
    "####  Understanding File Handling 📂"
   ]
  },
  {
   "cell_type": "markdown",
   "id": "231f4cc7-7500-40c7-b043-3ac123d91fce",
   "metadata": {},
   "source": [
    "###### 🎯 What is File Handling?"
   ]
  },
  {
   "cell_type": "code",
   "execution_count": null,
   "id": "746dc46f-2436-4db5-833b-06023269243a",
   "metadata": {},
   "outputs": [],
   "source": [
    "##### Imagine writing something on paper and saving it in a file.\n",
    "##### Python can do the same — it can:#\n",
    "##✅ Create files\n",
    "##✅ Write to files\n",
    "##✅ Read from files\n",
    "##✅ Update or delete files"
   ]
  },
  {
   "cell_type": "markdown",
   "id": "41b51bb8-b140-43df-910c-529f912c2eb9",
   "metadata": {},
   "source": [
    "###### How to Work with Files in Python"
   ]
  },
  {
   "cell_type": "markdown",
   "id": "cec399b2-2ec2-4f57-9613-1cd27fb76aeb",
   "metadata": {},
   "source": [
    "\n",
    "* You use the open() function."
   ]
  },
  {
   "cell_type": "code",
   "execution_count": null,
   "id": "7851a201-f0d0-4bde-a04a-35bc07969c32",
   "metadata": {},
   "outputs": [],
   "source": [
    "### open(Filename , 'mode')"
   ]
  },
  {
   "cell_type": "markdown",
   "id": "f8fbeec3-f87a-44fd-9cc0-4a05240ac5ce",
   "metadata": {},
   "source": [
    "###### Common Modes:"
   ]
  },
  {
   "cell_type": "markdown",
   "id": "651516f4-9037-4453-b988-12677dfb888b",
   "metadata": {},
   "source": [
    "* Mode 'r':  Read File\n",
    "* Mode 'w': Write (Create or overwrite )\n",
    "* Mode 'm': Append (add a file)\n",
    "* Mode 'x': create (error if exist)"
   ]
  },
  {
   "cell_type": "code",
   "execution_count": null,
   "id": "81a27617-1f2b-4d78-86b0-bcd27b46aa35",
   "metadata": {},
   "outputs": [],
   "source": [
    "##### Write to a File"
   ]
  },
  {
   "cell_type": "code",
   "execution_count": 22,
   "id": "4dee29a5-30dc-4c17-a3d4-6e934e165648",
   "metadata": {},
   "outputs": [],
   "source": [
    "file = open(\"document.txt\" , 'w') ## write on a file\n",
    "file.write(\"Python is very lovely \\n\")\n",
    "file.write(\"i cant wait to start building projects?\\n\")\n",
    "file.close()"
   ]
  },
  {
   "cell_type": "code",
   "execution_count": null,
   "id": "1409e16b-c0f1-4bed-a95a-68307dca9e73",
   "metadata": {},
   "outputs": [],
   "source": [
    "##### Read to a File"
   ]
  },
  {
   "cell_type": "code",
   "execution_count": 23,
   "id": "778dd8fd-0aca-4b06-b286-2d36f7fc828c",
   "metadata": {},
   "outputs": [
    {
     "name": "stdout",
     "output_type": "stream",
     "text": [
      "Python is very lovely \n",
      "i cant wait to start building projects?\n",
      "\n"
     ]
    }
   ],
   "source": [
    "file = open(\"document.txt\" , 'r') ### reading from the file\n",
    "content = file.read()\n",
    "print(content)\n",
    "file.close()"
   ]
  },
  {
   "cell_type": "code",
   "execution_count": null,
   "id": "794c840b-2699-48e2-b2de-d0c576069f12",
   "metadata": {},
   "outputs": [],
   "source": [
    "##### Append to a File"
   ]
  },
  {
   "cell_type": "code",
   "execution_count": 24,
   "id": "f28b1c07-04b2-4c7f-bbb0-fec4f5040ca4",
   "metadata": {},
   "outputs": [],
   "source": [
    "file = open(\"document.txt\" , 'a')\n",
    "file.write(\"I am learning file handling \\n\")\n",
    "file.close()"
   ]
  },
  {
   "cell_type": "code",
   "execution_count": null,
   "id": "9e7155d0-a9f5-43ee-991d-0a15f7a5c251",
   "metadata": {},
   "outputs": [],
   "source": [
    "##### CCheck if the file exist "
   ]
  },
  {
   "cell_type": "code",
   "execution_count": 25,
   "id": "8c02875b-ab92-4392-af9d-d858fb1e7d75",
   "metadata": {},
   "outputs": [
    {
     "name": "stdout",
     "output_type": "stream",
     "text": [
      "Document exist\n"
     ]
    }
   ],
   "source": [
    "import os\n",
    "\n",
    "if os.path.exists(\"document.txt\"):\n",
    "    print(\"Document exist\")\n",
    "else:\n",
    "    print(\"Documenet not valid\")"
   ]
  },
  {
   "cell_type": "code",
   "execution_count": null,
   "id": "eba620fb-6c00-4ea8-8aa0-f16b8acb6c9c",
   "metadata": {},
   "outputs": [],
   "source": [
    "##### Delete a File (careful!)"
   ]
  },
  {
   "cell_type": "code",
   "execution_count": 28,
   "id": "a2ba5b19-000f-4eef-bff9-fdd8b2602982",
   "metadata": {},
   "outputs": [
    {
     "name": "stdout",
     "output_type": "stream",
     "text": [
      "document not found\n"
     ]
    }
   ],
   "source": [
    "import os\n",
    "if os.path.exists(\"document.txt\"):\n",
    "    os.remove(\"document.txt\")\n",
    "    print(\"document deleted\")\n",
    "else:\n",
    "    print(\"document not found\")"
   ]
  },
  {
   "cell_type": "markdown",
   "id": "1c38ab0e-ac9f-4a9b-88c7-dbfa5e8db553",
   "metadata": {},
   "source": [
    "#### Understanding Classes 🏗️ and Objects 📦 "
   ]
  },
  {
   "cell_type": "markdown",
   "id": "61bfd0e1-9b41-4cf5-bbfd-0adabf79b0ee",
   "metadata": {},
   "source": [
    "##### Real-Life Analogy: Think of a Class as a Blueprint"
   ]
  },
  {
   "cell_type": "markdown",
   "id": "6e526da7-0ac5-4b3f-976d-84ccc1236bdb",
   "metadata": {},
   "source": [
    "* Imagine you're building cars in a factory.You start by designing a blueprint for the car (wheels, engine, color, etc.)\n",
    "* 🚗 The blueprint is like a Class — it defines what a car is.\n",
    "* 🚗🚗 Each car built from that blueprint is an Object — a real thing you can use."
   ]
  },
  {
   "cell_type": "markdown",
   "id": "b494b021-3a8a-494e-8749-090358ad84f1",
   "metadata": {},
   "source": [
    "##### 📘 What is a Class?"
   ]
  },
  {
   "cell_type": "markdown",
   "id": "c65feb73-7e1c-4dcc-8fc3-4a530422e1b6",
   "metadata": {},
   "source": [
    "* A Class in Python is a template or blueprint to create your own custom objects. It defines:\n",
    "* Properties (also called attributes)\n",
    "* Behaviors (also called methods)"
   ]
  },
  {
   "cell_type": "markdown",
   "id": "be0021bd-bbf6-4230-9b09-4514cbb36818",
   "metadata": {},
   "source": [
    " ##### What is an Object?\n",
    "* An Object is something created from a Class — like a car made from a design.\n",
    "* Each object has its own values (name, age, color, etc.)"
   ]
  },
  {
   "cell_type": "markdown",
   "id": "ceddc0a4-0881-417b-848b-fead69cf7235",
   "metadata": {},
   "source": [
    "##### Step-by-Step Example"
   ]
  },
  {
   "cell_type": "markdown",
   "id": "81054c80-c187-4fd8-9086-75948b98e7cd",
   "metadata": {},
   "source": [
    "* Step 1: Create a Class"
   ]
  },
  {
   "cell_type": "code",
   "execution_count": 50,
   "id": "8c8a4101-2d6b-4afb-a9dc-cb0b7b047091",
   "metadata": {},
   "outputs": [],
   "source": [
    "class Person:\n",
    "    def __init__(self , name ,age):\n",
    "        self.name = name\n",
    "        self.age = age\n",
    "    \n",
    "    def greet(self):\n",
    "        print(\"Hello , My name is \" , self.name , \"I am \",  self.age  , \"Years old\")\n",
    "\n",
    "\n",
    "        "
   ]
  },
  {
   "cell_type": "markdown",
   "id": "40b1b006-a83f-400b-8963-3f2574ed8006",
   "metadata": {},
   "source": [
    "##### 🔍 Explanation:\n",
    "* class Person:\tDefines a new class called Person\n",
    "* def  __init__\tA special method that runs when you create a new person\n",
    "* self.name = name\tStores the name inside the object\n",
    "* greet()\tA function inside the class — behavior of the object"
   ]
  },
  {
   "cell_type": "markdown",
   "id": "16b4e88c-8d33-4ab3-af47-8e38ac0774c6",
   "metadata": {},
   "source": [
    "* Step 2 :Create an Object from the Class"
   ]
  },
  {
   "cell_type": "code",
   "execution_count": 53,
   "id": "fdda975a-f391-4431-85ed-61bc8ca36e5b",
   "metadata": {},
   "outputs": [
    {
     "name": "stdout",
     "output_type": "stream",
     "text": [
      "Hello , My name is  Fash I am  25 Years old\n",
      "Hello , My name is  James I am  46 Years old\n"
     ]
    }
   ],
   "source": [
    "p1 = Person(\"Fash\" ,25)\n",
    "p2 =  Person(\"James\" ,46)\n",
    "p1.greet()\n",
    "p2.greet()"
   ]
  },
  {
   "cell_type": "markdown",
   "id": "9346a970-6511-4e9c-8250-6f14565cf812",
   "metadata": {},
   "source": [
    "##### Key Terms\n",
    "* Term\tMeaning\n",
    "* Class\tBlueprint/template\n",
    "* Object\tA real item created from class\n",
    "* __init__\tInitializes object with data\n",
    "* self\tRefers to the current object\n",
    "* Method\tA function inside a class"
   ]
  },
  {
   "cell_type": "code",
   "execution_count": null,
   "id": "a2ce1861-3713-4a6e-8799-773b7dfb74eb",
   "metadata": {},
   "outputs": [],
   "source": [
    "##### More Examples\n",
    "#####  Example: Class for a Game Character"
   ]
  },
  {
   "cell_type": "code",
   "execution_count": 57,
   "id": "1771a9b0-b98c-41f2-8266-cefd3567ba67",
   "metadata": {},
   "outputs": [
    {
     "name": "stdout",
     "output_type": "stream",
     "text": [
      "Temple run is level 5\n"
     ]
    }
   ],
   "source": [
    "class Player:\n",
    "    def __init__(self , name , level):\n",
    "        self.name = name\n",
    "        self.level = level\n",
    "    def show_info(self):\n",
    "        print(self.name , \"is level\" , self.level)\n",
    "\n",
    "player1 = Player(\"Temple run\" , 5)\n",
    "\n",
    "player1.show_info()"
   ]
  },
  {
   "cell_type": "code",
   "execution_count": null,
   "id": "9f213263-b83f-495c-8f1d-1cab0f65cbd9",
   "metadata": {},
   "outputs": [],
   "source": [
    "####Example with Updating Attributes"
   ]
  },
  {
   "cell_type": "code",
   "execution_count": 63,
   "id": "030191e6-ba9a-4246-88d9-6bfe284c7a0b",
   "metadata": {},
   "outputs": [
    {
     "name": "stdout",
     "output_type": "stream",
     "text": [
      "Jack run energy now 90\n"
     ]
    }
   ],
   "source": [
    "class Dog:\n",
    "    def __init__(self , name):\n",
    "        self.name = name\n",
    "        self.energy = 100\n",
    "    def run(self):\n",
    "        self.energy -=10\n",
    "        print(self.name , \"run energy now\" ,self.energy)\n",
    "        \n",
    "dog1 = Dog(\"Jack\")\n",
    "dog1.run()"
   ]
  },
  {
   "cell_type": "markdown",
   "id": "50b7a1c2-464f-4cb4-9cd8-d7526e37f9ee",
   "metadata": {},
   "source": [
    "##### ✅ Summary\n",
    "* Class:\tclass Person:\tDefines a blueprint\n",
    "* Object:\tp1 = Person(\"Alice\", 30)\tCreates a real thing from class\n",
    "* Attribute:\tself.name = name\tStores data\n",
    "* Method:\tdef greet(self):\tFunction that the object can use\n",
    "* self:\tself.name\tRefers to that specific object"
   ]
  },
  {
   "cell_type": "markdown",
   "id": "67050e8b-8be3-4dab-9442-5816edcad7b2",
   "metadata": {},
   "source": [
    "#### Understanding Inheritance"
   ]
  },
  {
   "cell_type": "markdown",
   "id": "c9e83155-15e5-4243-ba3d-b62cf1ff2514",
   "metadata": {},
   "source": [
    "##### Think of Parents and Children\n",
    "* Just like children inherit traits from their parents (like eye color, height, etc.), in Python:\n",
    "* 👉 A child class can inherit features (attributes and methods) from a parent class.\n",
    "* This saves time and avoids writing the same code again!"
   ]
  },
  {
   "cell_type": "markdown",
   "id": "5e312ecf-2d39-4c17-acd1-dae0098c9033",
   "metadata": {},
   "source": [
    "##### 📘 Why Use Inheritance?\n",
    "* Reuse code (no need to rewrite)\n",
    "* Add extra features to existing classes\n",
    "* Organize related classes better"
   ]
  },
  {
   "cell_type": "markdown",
   "id": "b0353b3b-3c8b-420e-bf9e-eb82d40de1f3",
   "metadata": {},
   "source": [
    "##### 🏗️ How It Works\n",
    "###### We create:\n",
    "* A Parent class (also called Base class)\n",
    "* A Child class (also called Subclass) that inherits from it"
   ]
  },
  {
   "cell_type": "markdown",
   "id": "19d25f95-d726-4ddb-9711-78fdb0d56db8",
   "metadata": {},
   "source": [
    "##### Example 1: Simple Inheritance"
   ]
  },
  {
   "cell_type": "code",
   "execution_count": null,
   "id": "a5d2f220-a330-4485-84f0-9524c39e1fee",
   "metadata": {},
   "outputs": [],
   "source": [
    "######  Parent Class: Animal"
   ]
  },
  {
   "cell_type": "code",
   "execution_count": 65,
   "id": "6d8996bd-9919-4ec2-b153-4465b6fa2cc4",
   "metadata": {},
   "outputs": [],
   "source": [
    "class Animal:\n",
    "    def __init__(self , name):\n",
    "        self.name = name\n",
    "    def speak(self):\n",
    "        print(self.name , \"make a sound\")"
   ]
  },
  {
   "cell_type": "code",
   "execution_count": null,
   "id": "187c65e2-d96a-42f7-b487-47730286fb05",
   "metadata": {},
   "outputs": [],
   "source": [
    "###### Child Class: Dog"
   ]
  },
  {
   "cell_type": "code",
   "execution_count": 66,
   "id": "62f15d3e-4dc7-4cda-a2c0-2e1905c6e49c",
   "metadata": {},
   "outputs": [],
   "source": [
    "class Dog(Animal):\n",
    "    def bark(self):\n",
    "        print(self.name , \"say woof\")"
   ]
  },
  {
   "cell_type": "code",
   "execution_count": null,
   "id": "3f507520-0b8f-4726-ac80-b0d20ca3b709",
   "metadata": {},
   "outputs": [],
   "source": [
    "###### Create an Object"
   ]
  },
  {
   "cell_type": "code",
   "execution_count": 68,
   "id": "0ca6c442-a2e1-4bd1-9ae3-917d87e8ed1a",
   "metadata": {},
   "outputs": [
    {
     "name": "stdout",
     "output_type": "stream",
     "text": [
      "Terry make a sound\n",
      "Terry say woof\n"
     ]
    }
   ],
   "source": [
    "dog1 = Dog(\"Terry\")\n",
    "dog1.speak()\n",
    "dog1.bark()\n",
    "    "
   ]
  },
  {
   "cell_type": "markdown",
   "id": "0a912e76-6f6c-43b7-8621-69396313dc12",
   "metadata": {},
   "source": [
    "##### Example 2: Overriding a Method (Customizing It)"
   ]
  },
  {
   "cell_type": "code",
   "execution_count": null,
   "id": "f758c8af-c2a5-47b3-b44f-f9a317ea7c2f",
   "metadata": {},
   "outputs": [],
   "source": [
    "# A child class can override a method from the parent class if it needs its own version."
   ]
  },
  {
   "cell_type": "code",
   "execution_count": 70,
   "id": "f68598b3-7763-4636-8a17-b8e1ce7930ce",
   "metadata": {},
   "outputs": [
    {
     "name": "stdout",
     "output_type": "stream",
     "text": [
      "Meow!\n"
     ]
    }
   ],
   "source": [
    "class Animal:\n",
    "    def speak(self):\n",
    "        print(\"Animal Speaks\")\n",
    "\n",
    "\n",
    "class Cat(Animal):\n",
    "    def speak(self):\n",
    "        print(\"Meow!\")\n",
    "\n",
    "cat1 = Cat()\n",
    "cat1.speak()"
   ]
  },
  {
   "cell_type": "markdown",
   "id": "b70b5853-8c51-4a78-b5c1-45b804308f68",
   "metadata": {},
   "source": [
    "##### Example 3: super() to Use Parent's Method"
   ]
  },
  {
   "cell_type": "code",
   "execution_count": null,
   "id": "1deecb2e-2eea-4c8e-a42a-e6de8e2923f9",
   "metadata": {},
   "outputs": [],
   "source": [
    "# ou can use super() to call the parent’s version of a method."
   ]
  },
  {
   "cell_type": "code",
   "execution_count": 74,
   "id": "7603c4c9-1b3f-47ae-89ec-ff126b3b35cb",
   "metadata": {},
   "outputs": [
    {
     "name": "stdout",
     "output_type": "stream",
     "text": [
      "Make a sound\n",
      "Bird Chirps\n"
     ]
    }
   ],
   "source": [
    "class Animal:\n",
    "    def speak(self):\n",
    "        print(\"Make a sound\")\n",
    "\n",
    "class Bird(Animal):\n",
    "    def speak(self):\n",
    "        super().speak()\n",
    "        print(\"Bird Chirps\")\n",
    "\n",
    "bird1 = Bird()\n",
    "bird1.speak()"
   ]
  },
  {
   "cell_type": "markdown",
   "id": "b140ab1b-dbc3-4a72-b945-49457b156bc9",
   "metadata": {},
   "source": [
    "##### ✅ Summary Table\n",
    "* Term\tMeaning\n",
    "* Parent Class\tThe original class being inherited from\n",
    "* Child Class\tThe class that inherits from the parent\n",
    "* super()\tCalls methods from the parent class\n",
    "* Override\tRedefine a method in the child class"
   ]
  },
  {
   "cell_type": "markdown",
   "id": "fdb4675e-816a-479a-bdfd-d14db20143ac",
   "metadata": {},
   "source": [
    "#### Exception Handling 🚨"
   ]
  },
  {
   "cell_type": "markdown",
   "id": "38cfefac-f9be-4982-a9e1-9591e5f96be3",
   "metadata": {},
   "source": [
    "##### What Is Exception Handling?\n",
    "* Sometimes, errors happen in your program — for example:\n",
    "* Trying to divide by zero\n",
    "* Opening a file that doesn’t exist\n",
    "* Getting a letter when expecting a number\n",
    "* Instead of your program crashing, Python gives you a way to handle errors gracefully.\n",
    "* That’s what Exception Handling does."
   ]
  },
  {
   "cell_type": "code",
   "execution_count": null,
   "id": "1c04295d-a7ef-48de-a1f2-4212c4d9e6a6",
   "metadata": {},
   "outputs": [],
   "source": [
    "## try: try to run some code\n",
    "## except: Catch the error if one happens\n",
    "## else: run this if no error occurs\n",
    "## finally: Always runs - error or not(Optional)"
   ]
  },
  {
   "cell_type": "code",
   "execution_count": null,
   "id": "5c2aa2e6-761f-49dc-b908-d78b35778bc8",
   "metadata": {},
   "outputs": [],
   "source": [
    "##### Example 1: Catch a Division by Zero"
   ]
  },
  {
   "cell_type": "code",
   "execution_count": 2,
   "id": "ab6294a0-9315-447a-be46-1ab92859176b",
   "metadata": {},
   "outputs": [
    {
     "name": "stdout",
     "output_type": "stream",
     "text": [
      "Result 5.0\n"
     ]
    }
   ],
   "source": [
    "try:\n",
    "    num = 10\n",
    "    result = num /2\n",
    "    print(\"Result\" , result)\n",
    "except ZeroDivisionError:\n",
    "    print(\"You cannot divide by zero\")"
   ]
  },
  {
   "cell_type": "code",
   "execution_count": null,
   "id": "2ae12c8f-4e54-413f-a0d9-3137a347348b",
   "metadata": {},
   "outputs": [],
   "source": [
    "#####  Example 2: Catch Invalid Input"
   ]
  },
  {
   "cell_type": "code",
   "execution_count": 4,
   "id": "8e324393-b86c-4fb3-aff7-aca8714df32f",
   "metadata": {},
   "outputs": [
    {
     "name": "stdin",
     "output_type": "stream",
     "text": [
      "Enter your age 100\n"
     ]
    },
    {
     "name": "stdout",
     "output_type": "stream",
     "text": [
      "You are 100 Years Old\n"
     ]
    }
   ],
   "source": [
    "try:\n",
    "    age =int(input(\"Enter your age\"))\n",
    "    print(\"You are\" , age, \"Years Old\")\n",
    "except ValueError:\n",
    "    print(\"Please Enter a Valid Input\")"
   ]
  },
  {
   "cell_type": "code",
   "execution_count": null,
   "id": "8d6c01d4-29f2-4581-8a18-06ef3a2ad618",
   "metadata": {},
   "outputs": [],
   "source": [
    " ##### Example 3: Using else and finally"
   ]
  },
  {
   "cell_type": "code",
   "execution_count": 7,
   "id": "ecd143c7-9265-4ebc-af21-d7af377d6e8f",
   "metadata": {},
   "outputs": [
    {
     "name": "stdin",
     "output_type": "stream",
     "text": [
      "Enter a number 10\n",
      "Enter another number 2\n"
     ]
    },
    {
     "name": "stdout",
     "output_type": "stream",
     "text": [
      "Result 5.0\n",
      "Run no matter what\n"
     ]
    }
   ],
   "source": [
    "try:\n",
    "    x  =  int(input(\"Enter a number\"))\n",
    "    y  =  int(input(\"Enter another number\"))\n",
    "    result = x/y\n",
    "except ZeroDivisionError:\n",
    "    print(\"Cant divide by zero\")\n",
    "except ValueError:\n",
    "    print(\"Only Number Allowed\")\n",
    "else:\n",
    "    print(\"Result\", result)\n",
    "finally :\n",
    "    print(\"Run no matter what\")\n",
    "    "
   ]
  },
  {
   "cell_type": "markdown",
   "id": "4e94608b-1dd1-4ebd-aa35-4456d65ce046",
   "metadata": {},
   "source": [
    "##### 📘 Keywords You’ll Learn\n",
    "* try\tTry:     to run some code\n",
    "* except:\t    Catch the error if one happens\n",
    "* else:\t    Run this if no error occurs (optional)\n",
    "* finally:\t   Always runs — error or not (optional)\n",
    "\n"
   ]
  },
  {
   "cell_type": "markdown",
   "id": "09be17bf-cb13-4c4e-b255-5c14695147d0",
   "metadata": {},
   "source": [
    "##### Summary Table\n",
    "\n",
    "* try\tWhen everything is fine\n",
    "* except\tWhen an error occurs\n",
    "* else\tOnly if try block has no error\n",
    "* finally\tAlways — no matter what\n",
    "\n"
   ]
  },
  {
   "cell_type": "markdown",
   "id": "a26e8501-14ea-4ef3-8a34-b902b01783f0",
   "metadata": {},
   "source": [
    "##### 🔧 Common Exceptions to Know\n",
    "* ZeroDivisionError:\tYou divide by zero\n",
    "* ValueError:\tWrong type (like \"abc\" in int())\n",
    "* FileNotFoundError:\tFile you're trying to open doesn't exist\n",
    "* TypeError:\tWrong type operation (e.g., string + int)\n",
    "* IndexError:\tIndex out of range in a list"
   ]
  },
  {
   "cell_type": "code",
   "execution_count": null,
   "id": "8695195d-8f13-4ff2-a502-78950ff963ac",
   "metadata": {},
   "outputs": [],
   "source": []
  }
 ],
 "metadata": {
  "kernelspec": {
   "display_name": "Python 3 (ipykernel)",
   "language": "python",
   "name": "python3"
  },
  "language_info": {
   "codemirror_mode": {
    "name": "ipython",
    "version": 3
   },
   "file_extension": ".py",
   "mimetype": "text/x-python",
   "name": "python",
   "nbconvert_exporter": "python",
   "pygments_lexer": "ipython3",
   "version": "3.13.1"
  }
 },
 "nbformat": 4,
 "nbformat_minor": 5
}
